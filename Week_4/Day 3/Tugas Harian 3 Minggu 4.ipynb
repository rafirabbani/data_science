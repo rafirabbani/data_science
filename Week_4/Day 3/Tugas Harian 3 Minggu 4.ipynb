{
 "cells": [
  {
   "cell_type": "markdown",
   "metadata": {},
   "source": [
    "<h1> Quiz 1 : Pemahaman Tentang Model Evaluasi</h1>\n",
    "\n",
    "Jawab pertanyaan di bawah ini dengan bahasa kalian masing2?\n",
    "\n",
    "1. Apa perbedaan antara data latih, data validasi, dan data test?\n",
    "2. Bagaimana cara kita menilai performa suatu model?\n",
    "3. Apa itu Confusion Matriks? Jelaskan secara lengkap!\n",
    "4. Apa itu Classification Report dari sklearn?"
   ]
  },
  {
   "cell_type": "markdown",
   "metadata": {},
   "source": [
    "<h1>Quiz 2 : Applikasi Model Evaluasi</h1>\n",
    "\n",
    "Kali ini kita akan menggunakan data untuk memprediksi kelangsungan hidup pasien yang telah mengalami operasi payu dara. Dengan informasi yang dimiliki terkait pasien, kita akan membuat model untuk memprediksi apakah pasien akan bertahan hidup dalam waktu lebih dari 5 tahun atau tidak.\n",
    "\n",
    "Lebih Lengkapnya kalian bisa membaca informasi tentang dataset di link berikut : https://raw.githubusercontent.com/jbrownlee/Datasets/master/haberman.names\n",
    "\n",
    "Buat model Klasifikasi (Model/Algoritma Bebas) untuk memprediksi status pasien. dengan ketentuan sebagai berikut :\n",
    "\n",
    "1. Bagi kedua data ini menjadi data training dan data test dengan test_size=0.25.\n",
    "3. Pelajar tentang metrics roc_auc_score kemudian buatlah model dan evaluasi dengan menggunakan teknik cross-validation dengan scoring 'roc_auc'. baca https://scikit-learn.org/stable/modules/generated/sklearn.model_selection.cross_val_score.html untuk menggunakan metric roc_auc saat cross-validation.\n",
    "3. Berapa score rata2 dari model dengan teknik cross-validation tersebut?\n",
    "4. Prediksi data test dengan model yang telah kalian buat!\n",
    "5. Bagaimana hasil confusion matrix dari hasil prediksi tersebut?\n",
    "6. Bagaimana classification report dari hasil prediksi tersebut?\n",
    "5. Seberapa baik model anda dalam memprediksi seorang pasien mempunyai status positive?\n",
    "6. Seberapa baik model anda dalam memprediksi seorang pasien mempunyai status negatif?"
   ]
  },
  {
   "cell_type": "code",
   "execution_count": 43,
   "metadata": {},
   "outputs": [],
   "source": [
    "import pandas as pd\n",
    "from sklearn.preprocessing import label_binarize \n",
    "\n",
    "url = 'https://raw.githubusercontent.com/jbrownlee/Datasets/master/haberman.csv'\n",
    "list_cols = ['Age', \"Patient's Years\", \"N_positive_ax\", \"survival_status\"]\n",
    "df = pd.read_csv(url, names=list_cols)"
   ]
  },
  {
   "cell_type": "code",
   "execution_count": 3,
   "metadata": {},
   "outputs": [
    {
     "output_type": "execute_result",
     "data": {
      "text/plain": "   Age  Patient's Years  N_positive_ax  survival_status\n0   30               64              1                1\n1   30               62              3                1\n2   30               65              0                1\n3   31               59              2                1\n4   31               65              4                1",
      "text/html": "<div>\n<style scoped>\n    .dataframe tbody tr th:only-of-type {\n        vertical-align: middle;\n    }\n\n    .dataframe tbody tr th {\n        vertical-align: top;\n    }\n\n    .dataframe thead th {\n        text-align: right;\n    }\n</style>\n<table border=\"1\" class=\"dataframe\">\n  <thead>\n    <tr style=\"text-align: right;\">\n      <th></th>\n      <th>Age</th>\n      <th>Patient's Years</th>\n      <th>N_positive_ax</th>\n      <th>survival_status</th>\n    </tr>\n  </thead>\n  <tbody>\n    <tr>\n      <th>0</th>\n      <td>30</td>\n      <td>64</td>\n      <td>1</td>\n      <td>1</td>\n    </tr>\n    <tr>\n      <th>1</th>\n      <td>30</td>\n      <td>62</td>\n      <td>3</td>\n      <td>1</td>\n    </tr>\n    <tr>\n      <th>2</th>\n      <td>30</td>\n      <td>65</td>\n      <td>0</td>\n      <td>1</td>\n    </tr>\n    <tr>\n      <th>3</th>\n      <td>31</td>\n      <td>59</td>\n      <td>2</td>\n      <td>1</td>\n    </tr>\n    <tr>\n      <th>4</th>\n      <td>31</td>\n      <td>65</td>\n      <td>4</td>\n      <td>1</td>\n    </tr>\n  </tbody>\n</table>\n</div>"
     },
     "metadata": {},
     "execution_count": 3
    }
   ],
   "source": [
    "df.head()"
   ]
  },
  {
   "cell_type": "code",
   "execution_count": 60,
   "metadata": {},
   "outputs": [],
   "source": [
    "df['survival_status'].value_counts()\n",
    "\n",
    "x = df[['Age', \"Patient's Years\", 'N_positive_ax']]\n",
    "y = df['survival_status']\n"
   ]
  },
  {
   "cell_type": "code",
   "execution_count": 61,
   "metadata": {},
   "outputs": [],
   "source": [
    "from sklearn.model_selection import train_test_split \n",
    "\n",
    "x_train, x_test, y_train, y_test = train_test_split(x, y, train_size= 0.75, stratify= y, random_state= 21)"
   ]
  },
  {
   "cell_type": "code",
   "execution_count": 62,
   "metadata": {},
   "outputs": [],
   "source": [
    "import numpy as np \n",
    "from sklearn import tree\n",
    "from sklearn.neighbors import KNeighborsClassifier \n",
    "\n",
    "k_neighbors_class = KNeighborsClassifier()\n",
    "train_k_neighbors = k_neighbors_class.fit(x_train, y_train)\n",
    "y_predict_k_neighbors = k_neighbors_class.predict(x_test)\n",
    "\n",
    "decision_tree = tree.DecisionTreeClassifier()\n",
    "train_tree = decision_tree.fit(x_train, y_train)\n",
    "y_predict_tree = decision_tree.predict(x_test)"
   ]
  },
  {
   "cell_type": "code",
   "execution_count": 88,
   "metadata": {},
   "outputs": [
    {
     "output_type": "stream",
     "name": "stdout",
     "text": "0.5223366013071895 0.6473039215686275\n[[36 21]\n [15  5]]\n[[47 10]\n [14  6]]\n"
    }
   ],
   "source": [
    "from sklearn.metrics import confusion_matrix, classification_report\n",
    "import matplotlib.pyplot as plt\n",
    "from sklearn.model_selection import cross_val_score \n",
    "\n",
    "\n",
    "#fpr_tree, tpr_tree, thresholds_tree = roc_curve(y_test, y_predict_tree, pos_label= 1)\n",
    "#fpr_k_neighbors, tpr_k_neighbors, thresholds_neighbors = roc_curve(y_test, y_predict_tree, pos_label= 1)\n",
    "\n",
    "score_tree = cross_val_score(decision_tree, x, y, scoring= 'roc_auc')\n",
    "score_k_neighbors = cross_val_score(k_neighbors_class, x, y, scoring= 'roc_auc')\n",
    "\n",
    "print(score_tree.mean(), score_k_neighbors.mean())\n",
    "\n",
    "confuse_matrix_tree = confusion_matrix(y_test, y_predict_tree)\n",
    "confuse_matrix_k_neighbors = confusion_matrix(y_test, y_predict_k_neighbors)\n",
    "\n",
    "print(confuse_matrix_tree)\n",
    "print(confuse_matrix_k_neighbors)\n",
    "\n"
   ]
  },
  {
   "cell_type": "code",
   "execution_count": 103,
   "metadata": {},
   "outputs": [
    {
     "output_type": "stream",
     "name": "stdout",
     "text": "\n               precision    recall  f1-score   support\n\n           1       0.71      0.63      0.67        57\n           2       0.19      0.25      0.22        20\n\n    accuracy                           0.53        77\n   macro avg       0.45      0.44      0.44        77\nweighted avg       0.57      0.53      0.55        77\n\n              precision    recall  f1-score   support\n\n           1       0.77      0.82      0.80        57\n           2       0.38      0.30      0.33        20\n\n    accuracy                           0.69        77\n   macro avg       0.57      0.56      0.56        77\nweighted avg       0.67      0.69      0.68        77\n\n"
    }
   ],
   "source": [
    "from tabulate import tabulate \n",
    "report_tree = classification_report(y_test, y_predict_tree)\n",
    "report_k_neighbors = classification_report(y_test, y_predict_k_neighbors)\n",
    "\n",
    "print('\\n', report_tree)\n",
    "print(report_k_neighbors)"
   ]
  },
  {
   "cell_type": "code",
   "execution_count": null,
   "metadata": {},
   "outputs": [],
   "source": []
  }
 ],
 "metadata": {
  "kernelspec": {
   "display_name": "Python 3",
   "language": "python",
   "name": "python3"
  },
  "language_info": {
   "codemirror_mode": {
    "name": "ipython",
    "version": 3
   },
   "file_extension": ".py",
   "mimetype": "text/x-python",
   "name": "python",
   "nbconvert_exporter": "python",
   "pygments_lexer": "ipython3",
   "version": "3.8.1-final"
  }
 },
 "nbformat": 4,
 "nbformat_minor": 4
}